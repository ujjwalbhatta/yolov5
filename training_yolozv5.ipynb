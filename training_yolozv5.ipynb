{
 "cells": [
  {
   "cell_type": "code",
   "execution_count": null,
   "metadata": {},
   "outputs": [],
   "source": [
    "from ultralytics import YOLO\n",
    "\n",
    "#Load the model\n",
    "model = YOLO(\"yolov5nu.pt\")\n",
    "\n",
    "#Train the model\n",
    "model.train(data=\"/home/usd.local/ujjwal.bhatta/ComputerVision-YOLO/data.yaml\", epochs=50, imgsz=640, batch=32, name=\"yolov5n\")"
   ]
  }
 ],
 "metadata": {
  "kernelspec": {
   "display_name": "Python 3",
   "language": "python",
   "name": "python3"
  },
  "language_info": {
   "codemirror_mode": {
    "name": "ipython",
    "version": 3
   },
   "file_extension": ".py",
   "mimetype": "text/x-python",
   "name": "python",
   "nbconvert_exporter": "python",
   "pygments_lexer": "ipython3",
   "version": "3.12.2"
  }
 },
 "nbformat": 4,
 "nbformat_minor": 2
}
